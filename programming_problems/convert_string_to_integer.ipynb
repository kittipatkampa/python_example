{
 "metadata": {
  "name": "",
  "signature": "sha256:84e0b9b89843d3042ecaa086e4c1137d4d17a937bd0e026e3928746e7eb022d1"
 },
 "nbformat": 3,
 "nbformat_minor": 0,
 "worksheets": [
  {
   "cells": [
    {
     "cell_type": "markdown",
     "metadata": {},
     "source": [
      "convert the string to integer\n",
      "* \"1234\" --> 1234\n",
      "* \"-345\" --> -345\n",
      "* \"skjfh344sdf\" --> 344\n",
      "* \"djfh-234 dfd\" --> -234\n",
      "* \"0002300\" --> 2300\n",
      "* \"+000627\" --> 627"
     ]
    },
    {
     "cell_type": "code",
     "collapsed": false,
     "input": [
      "def atoi(mystr):\n",
      "    import re\n",
      "    import sys\n",
      "\n",
      "    # constants\n",
      "    dict_str_to_num = {'0':0, '1':1, '2':2, '3':3, '4':4, '5':5, '6':6, '7':7, '8':8, '9':9}\n",
      "    dict_sign = {'-':-1, '+':1}\n",
      "\n",
      "    # remove all the white spaces\n",
      "    mystr = str.strip(mystr)\n",
      "\n",
      "    # regex to keep only the firt group of number with sign\n",
      "    mystr = ''.join(re.findall('(^[\\+\\-0]*\\d+)\\D*', mystr))\n",
      "\n",
      "    if mystr=='': return 0\n",
      "\n",
      "    # detect the sign part and number part\n",
      "    if dict_str_to_num.get(mystr[0]) is not None: \n",
      "        sign = 1\n",
      "    else: \n",
      "        sign = dict_sign.get(mystr[0])\n",
      "        mystr = mystr[1:]\n",
      "    print(\"number part: %s, sign part: %d\" % (mystr, sign))\n",
      "\n",
      "    # str to int loop\n",
      "    d = 1; val = 0\n",
      "    for s in mystr[::-1]:\n",
      "        s2num = dict_str_to_num.get(s, -99)\n",
      "        #print(\"s:%s s2num:%d\" % (s,s2num))\n",
      "        if s2num >= 0:\n",
      "            val = val + d*s2num\n",
      "            d = d*10\n",
      "        else: \n",
      "            print('mystr contains non-number characters \"%s\"' % (s))\n",
      "            return 0    \n",
      "    val = sign*val    \n",
      "\n",
      "    # check if the outut is out of the int range, then return\n",
      "    if val > sys.maxsize: return sys.maxsize\n",
      "    elif val < -sys.maxsize-1: return -sys.maxsize-1\n",
      "    else: return val"
     ],
     "language": "python",
     "metadata": {},
     "outputs": [],
     "prompt_number": 70
    },
    {
     "cell_type": "code",
     "collapsed": false,
     "input": [
      "#atoi(\"+000045\")\n",
      "#atoi(\"+-000045\")\n",
      "#atoi(\"-9223372036854775817\")\n",
      "atoi(\"010\")"
     ],
     "language": "python",
     "metadata": {},
     "outputs": [
      {
       "output_type": "stream",
       "stream": "stdout",
       "text": [
        "number part: 010, sign part: 1\n"
       ]
      },
      {
       "metadata": {},
       "output_type": "pyout",
       "prompt_number": 71,
       "text": [
        "10"
       ]
      }
     ],
     "prompt_number": 71
    },
    {
     "cell_type": "code",
     "collapsed": false,
     "input": [
      "sys.maxsize"
     ],
     "language": "python",
     "metadata": {},
     "outputs": [
      {
       "metadata": {},
       "output_type": "pyout",
       "prompt_number": 13,
       "text": [
        "9223372036854775807"
       ]
      }
     ],
     "prompt_number": 13
    }
   ],
   "metadata": {}
  }
 ]
}
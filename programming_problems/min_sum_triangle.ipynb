{
 "metadata": {
  "name": "",
  "signature": "sha256:ea7ffed9c3943fc15b1484b66aff10b1b8fe134c8edf44af84cf4dbdb24b58b1"
 },
 "nbformat": 3,
 "nbformat_minor": 0,
 "worksheets": [
  {
   "cells": [
    {
     "cell_type": "markdown",
     "metadata": {},
     "source": [
      "Given a triangle, find the minimum path sum from top to bottom. Each step you may move to adjacent numbers on the row below.\n",
      "\n",
      "For example, given the following triangle"
     ]
    },
    {
     "cell_type": "code",
     "collapsed": false,
     "input": [
      "def find_minsum(tri):\n",
      "    \"\"\"\n",
      "    space: O(n^2) where n is the nomber of row. \n",
      "    Actually we can save more space because only 2n-1 spaces are used simultaneously.\n",
      "    \"\"\"\n",
      "    numrow = len(tri)\n",
      "    # if not check_triangle(tri): return -999\n",
      "    \n",
      "    # check if empty\n",
      "    if not tri: return 0\n",
      "    \n",
      "    # prepare space for minsum\n",
      "    import copy\n",
      "    minsum = copy.deepcopy(tri)\n",
      "    \n",
      "    for r in range(1, numrow):\n",
      "        for c in range(r+1):\n",
      "            if c == 0: minsum[r][c] = tri[r][c] + minsum[r-1][c]\n",
      "            elif c == r: minsum[r][c] = tri[r][c] + minsum[r-1][c-1]\n",
      "            else: minsum[r][c] = tri[r][c] + min( minsum[r-1][c-1], minsum[r-1][c] )\n",
      "    return min( minsum[numrow-1] )        "
     ],
     "language": "python",
     "metadata": {},
     "outputs": [],
     "prompt_number": 79
    },
    {
     "cell_type": "code",
     "collapsed": false,
     "input": [
      "def find_minsum(tri):\n",
      "    \"\"\"\n",
      "    space: O(2n) where n is the nomber of row. \n",
      "    \"\"\"\n",
      "    numrow = len(tri)\n",
      "    # if not check_triangle(tri): return -999\n",
      "    \n",
      "    # check if empty\n",
      "    if not tri: return 0\n",
      "    \n",
      "    # prepare space for minsum\n",
      "    minsum = [0]*numrow\n",
      "    minsum_par = [0]*numrow # parent row\n",
      "    minsum_par[0] = tri[0][0]\n",
      "    \n",
      "    for r in range(1, numrow):\n",
      "        for c in range(r+1):\n",
      "            if c == 0: minsum[c] = tri[r][c] + minsum_par[c]\n",
      "            elif c == r: minsum[c] = tri[r][c] + minsum_par[c-1]\n",
      "            else: minsum[c] = tri[r][c] + min( minsum_par[c-1], minsum_par[c] )\n",
      "            #print(minsum)    \n",
      "        # swap minsum minsum_par <- minsum, minsum <- reuse\n",
      "        minsum_par, minsum = minsum, minsum_par        \n",
      "    return min( minsum_par )        "
     ],
     "language": "python",
     "metadata": {},
     "outputs": [],
     "prompt_number": 113
    },
    {
     "cell_type": "code",
     "collapsed": false,
     "input": [
      "def find_minsum(tri, r=0, c=0):\n",
      "    \"\"\"\n",
      "    recursive \n",
      "    \"\"\"\n",
      "    if not tri: return 0\n",
      "    if r == len(tri)-1: return tri[r][c]\n",
      "    return tri[r][c] + min( find_minsum(tri, r+1, c), find_minsum(tri, r+1, c+1) )"
     ],
     "language": "python",
     "metadata": {},
     "outputs": [],
     "prompt_number": 119
    },
    {
     "cell_type": "code",
     "collapsed": false,
     "input": [
      "tri = []\n",
      "find_minsum(tri)"
     ],
     "language": "python",
     "metadata": {},
     "outputs": [
      {
       "metadata": {},
       "output_type": "pyout",
       "prompt_number": 120,
       "text": [
        "0"
       ]
      }
     ],
     "prompt_number": 120
    },
    {
     "cell_type": "code",
     "collapsed": false,
     "input": [
      "tri = [\n",
      "     [2],\n",
      "    [3,4],\n",
      "   [6,5,7],\n",
      "  [4,1,8,3]\n",
      "]\n",
      "find_minsum(tri)"
     ],
     "language": "python",
     "metadata": {},
     "outputs": [
      {
       "metadata": {},
       "output_type": "pyout",
       "prompt_number": 121,
       "text": [
        "11"
       ]
      }
     ],
     "prompt_number": 121
    },
    {
     "cell_type": "code",
     "collapsed": false,
     "input": [
      "def test_empty(lst):\n",
      "    \"\"\"\n",
      "    Test if a list lst is empty or not\n",
      "    \"\"\"\n",
      "    if not lst: print(\"lst is an empty list\")\n",
      "    else: print(\"lst is not empty\")\n",
      "        "
     ],
     "language": "python",
     "metadata": {},
     "outputs": [],
     "prompt_number": 17
    },
    {
     "cell_type": "code",
     "collapsed": false,
     "input": [
      "test_empty([])\n",
      "test_empty([None])\n",
      "test_empty(['a'])"
     ],
     "language": "python",
     "metadata": {},
     "outputs": [
      {
       "output_type": "stream",
       "stream": "stdout",
       "text": [
        "lst is an empty list\n",
        "lst is not empty\n",
        "lst is not empty\n"
       ]
      }
     ],
     "prompt_number": 20
    },
    {
     "cell_type": "code",
     "collapsed": false,
     "input": [
      "min([0, -1, 4])"
     ],
     "language": "python",
     "metadata": {},
     "outputs": [
      {
       "metadata": {},
       "output_type": "pyout",
       "prompt_number": 22,
       "text": [
        "-1"
       ]
      }
     ],
     "prompt_number": 22
    },
    {
     "cell_type": "code",
     "collapsed": false,
     "input": [
      "tri2 = tri[:]"
     ],
     "language": "python",
     "metadata": {},
     "outputs": [],
     "prompt_number": 65
    },
    {
     "cell_type": "code",
     "collapsed": false,
     "input": [
      "tri2[0][0] = -1"
     ],
     "language": "python",
     "metadata": {},
     "outputs": [],
     "prompt_number": 67
    },
    {
     "cell_type": "code",
     "collapsed": false,
     "input": [
      "tri"
     ],
     "language": "python",
     "metadata": {},
     "outputs": [
      {
       "metadata": {},
       "output_type": "pyout",
       "prompt_number": 90,
       "text": [
        "[[2], [3, 4], [6, 5, 7], [4, 1, 8, 3]]"
       ]
      }
     ],
     "prompt_number": 90
    },
    {
     "cell_type": "code",
     "collapsed": false,
     "input": [
      "tri2"
     ],
     "language": "python",
     "metadata": {},
     "outputs": [
      {
       "metadata": {},
       "output_type": "pyout",
       "prompt_number": 91,
       "text": [
        "[[-1], [3, 4], [6, 5, 7], [4, 1, 8, 3]]"
       ]
      }
     ],
     "prompt_number": 91
    },
    {
     "cell_type": "code",
     "collapsed": false,
     "input": [
      "tri, tri2 = tri2, tri"
     ],
     "language": "python",
     "metadata": {},
     "outputs": [],
     "prompt_number": 89
    },
    {
     "cell_type": "code",
     "collapsed": false,
     "input": [
      "id(tri)"
     ],
     "language": "python",
     "metadata": {},
     "outputs": [
      {
       "metadata": {},
       "output_type": "pyout",
       "prompt_number": 58,
       "text": [
        "4373523976"
       ]
      }
     ],
     "prompt_number": 58
    },
    {
     "cell_type": "code",
     "collapsed": false,
     "input": [
      "id(tri2)"
     ],
     "language": "python",
     "metadata": {},
     "outputs": [
      {
       "metadata": {},
       "output_type": "pyout",
       "prompt_number": 59,
       "text": [
        "4373775944"
       ]
      }
     ],
     "prompt_number": 59
    },
    {
     "cell_type": "code",
     "collapsed": false,
     "input": [
      "tri"
     ],
     "language": "python",
     "metadata": {},
     "outputs": [
      {
       "metadata": {},
       "output_type": "pyout",
       "prompt_number": 123,
       "text": [
        "[[2], [3, 4], [6, 5, 7], [4, 1, 8, 3]]"
       ]
      }
     ],
     "prompt_number": 123
    },
    {
     "cell_type": "code",
     "collapsed": false,
     "input": [
      "a = tri\n",
      "a[0] = [-1]\n",
      "tri"
     ],
     "language": "python",
     "metadata": {},
     "outputs": [
      {
       "metadata": {},
       "output_type": "pyout",
       "prompt_number": 124,
       "text": [
        "[[-1], [3, 4], [6, 5, 7], [4, 1, 8, 3]]"
       ]
      }
     ],
     "prompt_number": 124
    },
    {
     "cell_type": "code",
     "collapsed": false,
     "input": [
      "b = tri[0]\n",
      "b = [-2]\n",
      "tri"
     ],
     "language": "python",
     "metadata": {},
     "outputs": [
      {
       "metadata": {},
       "output_type": "pyout",
       "prompt_number": 126,
       "text": [
        "[[-1], [3, 4], [6, 5, 7], [4, 1, 8, 3]]"
       ]
      }
     ],
     "prompt_number": 126
    },
    {
     "cell_type": "code",
     "collapsed": false,
     "input": [
      "b"
     ],
     "language": "python",
     "metadata": {},
     "outputs": [
      {
       "metadata": {},
       "output_type": "pyout",
       "prompt_number": 127,
       "text": [
        "[-2]"
       ]
      }
     ],
     "prompt_number": 127
    },
    {
     "cell_type": "code",
     "collapsed": false,
     "input": [
      "b = tri[0:]\n",
      "print(\"tri: %s, b: %s\" % (tri, b))\n",
      "b = [-2]\n",
      "print(\"tri: %s, b: %s\" % (tri, b))"
     ],
     "language": "python",
     "metadata": {},
     "outputs": [
      {
       "output_type": "stream",
       "stream": "stdout",
       "text": [
        "tri: [[-1], [3, 4], [6, 5, 7], [4, 1, 8, 3]], b: [[-1], [3, 4], [6, 5, 7], [4, 1, 8, 3]]\n",
        "tri: [[-1], [3, 4], [6, 5, 7], [4, 1, 8, 3]], b: [-2]\n"
       ]
      }
     ],
     "prompt_number": 130
    },
    {
     "cell_type": "code",
     "collapsed": false,
     "input": [
      "b = tri[0]\n",
      "print(\"tri: %s, b: %s\" % (tri, b))\n",
      "b = [-2]\n",
      "print(\"tri: %s, b: %s\" % (tri, b))"
     ],
     "language": "python",
     "metadata": {},
     "outputs": [
      {
       "output_type": "stream",
       "stream": "stdout",
       "text": [
        "tri: [[-1], [3, 4], [6, 5, 7], [4, 1, 8, 3]], b: [-1]\n",
        "tri: [[-1], [3, 4], [6, 5, 7], [4, 1, 8, 3]], b: [-2]\n"
       ]
      }
     ],
     "prompt_number": 131
    },
    {
     "cell_type": "code",
     "collapsed": false,
     "input": [
      "b = tri[0]\n",
      "print(\"tri: %s, b: %s\" % (tri, b))\n",
      "b[0] = [-2]\n",
      "print(\"tri: %s, b: %s\" % (tri, b))"
     ],
     "language": "python",
     "metadata": {},
     "outputs": [
      {
       "output_type": "stream",
       "stream": "stdout",
       "text": [
        "tri: [[-2], [3, 4], [6, 5, 7], [4, 1, 8, 3]], b: [-2]\n",
        "tri: [[[-2]], [3, 4], [6, 5, 7], [4, 1, 8, 3]], b: [[-2]]\n"
       ]
      }
     ],
     "prompt_number": 134
    },
    {
     "cell_type": "code",
     "collapsed": false,
     "input": [
      "b = tri\n",
      "print(\"tri: %s, b: %s\" % (tri, b))\n",
      "b = [-2]\n",
      "print(\"tri: %s, b: %s\" % (tri, b))"
     ],
     "language": "python",
     "metadata": {},
     "outputs": [
      {
       "output_type": "stream",
       "stream": "stdout",
       "text": [
        "tri: [[-1], [3, 4], [6, 5, 7], [4, 1, 8, 3]], b: [[-1], [3, 4], [6, 5, 7], [4, 1, 8, 3]]\n",
        "tri: [[-1], [3, 4], [6, 5, 7], [4, 1, 8, 3]], b: [-2]\n"
       ]
      }
     ],
     "prompt_number": 132
    },
    {
     "cell_type": "code",
     "collapsed": false,
     "input": [
      "b = tri\n",
      "print(\"tri: %s, b: %s\" % (tri, b))\n",
      "b[0] = [-2]\n",
      "print(\"tri: %s, b: %s\" % (tri, b))"
     ],
     "language": "python",
     "metadata": {},
     "outputs": [
      {
       "output_type": "stream",
       "stream": "stdout",
       "text": [
        "tri: [[-1], [3, 4], [6, 5, 7], [4, 1, 8, 3]], b: [[-1], [3, 4], [6, 5, 7], [4, 1, 8, 3]]\n",
        "tri: [[-2], [3, 4], [6, 5, 7], [4, 1, 8, 3]], b: [[-2], [3, 4], [6, 5, 7], [4, 1, 8, 3]]\n"
       ]
      }
     ],
     "prompt_number": 133
    },
    {
     "cell_type": "code",
     "collapsed": false,
     "input": [],
     "language": "python",
     "metadata": {},
     "outputs": []
    }
   ],
   "metadata": {}
  }
 ]
}
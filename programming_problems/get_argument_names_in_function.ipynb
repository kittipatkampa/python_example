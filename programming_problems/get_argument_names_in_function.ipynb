{
 "metadata": {
  "name": "",
  "signature": "sha256:64e2b22dc5dcc6ae15b8d6231b9057c3c69e3bddbd767a37f360b1df2125c8b2"
 },
 "nbformat": 3,
 "nbformat_minor": 0,
 "worksheets": [
  {
   "cells": [
    {
     "cell_type": "markdown",
     "metadata": {},
     "source": [
      "http://stackoverflow.com/questions/582056/getting-list-of-parameter-names-inside-python-function"
     ]
    },
    {
     "cell_type": "code",
     "collapsed": false,
     "input": [
      "import inspect\n",
      "\n",
      "def func(a, b, c):\n",
      "    frame = inspect.currentframe()\n",
      "    args, _, _, values = inspect.getargvalues(frame)\n",
      "    print('function name \"%s\"' % inspect.getframeinfo(frame)[2])\n",
      "    for i in args:\n",
      "        print(\"    %s = %s\" % (i, values[i]))\n",
      "    return [(i, values[i]) for i in args]"
     ],
     "language": "python",
     "metadata": {},
     "outputs": [],
     "prompt_number": 2
    },
    {
     "cell_type": "code",
     "collapsed": false,
     "input": [
      "x = 1; y = 'yyy'; z = x\n",
      "func(x, y, z)"
     ],
     "language": "python",
     "metadata": {},
     "outputs": [
      {
       "output_type": "stream",
       "stream": "stdout",
       "text": [
        "function name \"func\"\n",
        "    a = 1\n",
        "    b = yyy\n",
        "    c = 1\n"
       ]
      },
      {
       "metadata": {},
       "output_type": "pyout",
       "prompt_number": 3,
       "text": [
        "[('a', 1), ('b', 'yyy'), ('c', 1)]"
       ]
      }
     ],
     "prompt_number": 3
    },
    {
     "cell_type": "code",
     "collapsed": false,
     "input": [
      "def func(a,b,c):\n",
      "    print(locals().keys())"
     ],
     "language": "python",
     "metadata": {},
     "outputs": [],
     "prompt_number": 5
    },
    {
     "cell_type": "code",
     "collapsed": false,
     "input": [
      "func(x,y,z)"
     ],
     "language": "python",
     "metadata": {},
     "outputs": [
      {
       "output_type": "stream",
       "stream": "stdout",
       "text": [
        "dict_keys(['b', 'c', 'a'])\n"
       ]
      }
     ],
     "prompt_number": 6
    },
    {
     "cell_type": "code",
     "collapsed": false,
     "input": [],
     "language": "python",
     "metadata": {},
     "outputs": []
    }
   ],
   "metadata": {}
  }
 ]
}
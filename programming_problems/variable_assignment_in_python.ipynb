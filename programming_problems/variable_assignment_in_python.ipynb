{
 "metadata": {
  "name": "",
  "signature": "sha256:0f8aee7f472b2d9cd00f872e79609467181520305dd6372b88676d15910a3089"
 },
 "nbformat": 3,
 "nbformat_minor": 0,
 "worksheets": [
  {
   "cells": [
    {
     "cell_type": "code",
     "collapsed": false,
     "input": [
      "L = [3, 4, 1, 0, 2]\n",
      "print(\"L @(%s): %s\" % (id(L), L))"
     ],
     "language": "python",
     "metadata": {},
     "outputs": [
      {
       "output_type": "stream",
       "stream": "stdout",
       "text": [
        "L @(4372444232): [3, 4, 1, 0, 2]\n"
       ]
      }
     ],
     "prompt_number": 16
    },
    {
     "cell_type": "code",
     "collapsed": false,
     "input": [
      "copy = sorted(L)\n",
      "print(\"copy @(%s): %s\" % (id(copy), copy))\n",
      "print(\"L @(%s): %s\" % (id(L), L))"
     ],
     "language": "python",
     "metadata": {},
     "outputs": [
      {
       "output_type": "stream",
       "stream": "stdout",
       "text": [
        "copy @(4372443976): [0, 1, 2, 3, 4]\n",
        "L @(4372444232): [3, 4, 1, 0, 2]\n"
       ]
      }
     ],
     "prompt_number": 17
    },
    {
     "cell_type": "code",
     "collapsed": false,
     "input": [
      "b = tri[1]\n",
      "print(\"tri(%s): %s, b(%s): %s\" % (id(tri), tri, id(b), b))\n",
      "b = [5]\n",
      "print(\"tri(%s): %s, b(%s): %s\" % (id(tri), tri, id(b), b))"
     ],
     "language": "python",
     "metadata": {},
     "outputs": [
      {
       "output_type": "stream",
       "stream": "stdout",
       "text": [
        "tri(4372446600): [[0], [1, 2], [3, 4, 5]], b(4372446792): [1, 2]\n",
        "tri(4372446600): [[0], [1, 2], [3, 4, 5]], b(4372514504): [5]\n"
       ]
      }
     ],
     "prompt_number": 5
    },
    {
     "cell_type": "code",
     "collapsed": false,
     "input": [
      "b = tri[1]\n",
      "print(\"tri(%s): %s, b(%s): %s\" % (id(tri), tri, id(b), b))\n",
      "b[0] = 6\n",
      "print(\"tri(%s): %s, b(%s): %s\" % (id(tri), tri, id(b), b))"
     ],
     "language": "python",
     "metadata": {},
     "outputs": [
      {
       "output_type": "stream",
       "stream": "stdout",
       "text": [
        "tri(4372446600): [[0], [1, 2], [3, 4, 5]], b(4372446792): [1, 2]\n",
        "tri(4372446600): [[0], [6, 2], [3, 4, 5]], b(4372446792): [6, 2]\n"
       ]
      }
     ],
     "prompt_number": 6
    },
    {
     "cell_type": "code",
     "collapsed": false,
     "input": [],
     "language": "python",
     "metadata": {},
     "outputs": []
    }
   ],
   "metadata": {}
  }
 ]
}
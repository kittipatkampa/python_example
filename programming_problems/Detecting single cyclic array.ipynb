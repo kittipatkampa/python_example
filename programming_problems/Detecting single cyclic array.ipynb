{
 "cells": [
  {
   "cell_type": "code",
   "execution_count": null,
   "metadata": {
    "collapsed": true
   },
   "outputs": [],
   "source": [
    "# Single cyclic array:\n",
    "# 1) x[a] = b points to mod(a+b, len(x))\n",
    "# 2) every element in an array is visited exactly once\n",
    "\n",
    "# This is an example of cyclic array\n",
    "[3, 5, 2, -2]\n",
    "0 -- 0+3 --> 3\n",
    "3 -- 3+-2 --> 1\n",
    "1 -- mod(1+5,4) --> 2\n",
    "2 -- mod(2+2,4) --> 0\n",
    "0\n"
   ]
  },
  {
   "cell_type": "code",
   "execution_count": 34,
   "metadata": {
    "collapsed": true
   },
   "outputs": [],
   "source": [
    "def is_complete_cycle(x):\n",
    "    \"\"\"\n",
    "    Detect if a list x is an cyclic array or not.\n",
    "    \"\"\"\n",
    "    # edge cases\n",
    "    if (x is None) or (x == []): return False\n",
    "    n = len(x)\n",
    "    if n == 1: return True\n",
    "\n",
    "    # \n",
    "    i_cur = 0\n",
    "    s = [False]*n\n",
    "    for j in range(n):\n",
    "        if (i_cur % 1 > 0) or (s[i_cur] == True): return False\n",
    "        s[i_cur] = True\n",
    "        i_cur = (i_cur + x[i_cur]) % n\n",
    "        \n",
    "    if i_cur == 0: return True\n",
    "    return False"
   ]
  },
  {
   "cell_type": "code",
   "execution_count": 35,
   "metadata": {
    "collapsed": false
   },
   "outputs": [
    {
     "data": {
      "text/plain": [
       "True"
      ]
     },
     "execution_count": 35,
     "metadata": {},
     "output_type": "execute_result"
    }
   ],
   "source": [
    "is_complete_cycle([2, -1, -1])"
   ]
  },
  {
   "cell_type": "code",
   "execution_count": 36,
   "metadata": {
    "collapsed": false
   },
   "outputs": [
    {
     "data": {
      "text/plain": [
       "False"
      ]
     },
     "execution_count": 36,
     "metadata": {},
     "output_type": "execute_result"
    }
   ],
   "source": [
    "is_complete_cycle([2, -1, 1])"
   ]
  },
  {
   "cell_type": "code",
   "execution_count": 27,
   "metadata": {
    "collapsed": false
   },
   "outputs": [
    {
     "data": {
      "text/plain": [
       "True"
      ]
     },
     "execution_count": 27,
     "metadata": {},
     "output_type": "execute_result"
    }
   ],
   "source": [
    "is_complete_cycle([3, 5, 2, -2])"
   ]
  },
  {
   "cell_type": "code",
   "execution_count": 28,
   "metadata": {
    "collapsed": false
   },
   "outputs": [
    {
     "data": {
      "text/plain": [
       "False"
      ]
     },
     "execution_count": 28,
     "metadata": {},
     "output_type": "execute_result"
    }
   ],
   "source": [
    "is_complete_cycle([])"
   ]
  },
  {
   "cell_type": "code",
   "execution_count": 29,
   "metadata": {
    "collapsed": false
   },
   "outputs": [
    {
     "data": {
      "text/plain": [
       "True"
      ]
     },
     "execution_count": 29,
     "metadata": {},
     "output_type": "execute_result"
    }
   ],
   "source": [
    "is_complete_cycle([3])"
   ]
  },
  {
   "cell_type": "code",
   "execution_count": 30,
   "metadata": {
    "collapsed": false
   },
   "outputs": [
    {
     "data": {
      "text/plain": [
       "False"
      ]
     },
     "execution_count": 30,
     "metadata": {},
     "output_type": "execute_result"
    }
   ],
   "source": [
    "is_complete_cycle([2, -1, -1.3])"
   ]
  },
  {
   "cell_type": "code",
   "execution_count": 37,
   "metadata": {
    "collapsed": false
   },
   "outputs": [
    {
     "data": {
      "text/plain": [
       "False"
      ]
     },
     "execution_count": 37,
     "metadata": {},
     "output_type": "execute_result"
    }
   ],
   "source": [
    "is_complete_cycle(None)"
   ]
  },
  {
   "cell_type": "code",
   "execution_count": 107,
   "metadata": {
    "collapsed": true
   },
   "outputs": [],
   "source": [
    "def generate_cyclic(n):\n",
    "    \"\"\"\n",
    "    This funciton generates cyclic array.\n",
    "    \"\"\"\n",
    "    import random\n",
    "    m = list(range(n))\n",
    "    random.shuffle(m)\n",
    "    \n",
    "    x = [0]*n\n",
    "    s = [False]*n\n",
    "    i_cur = m.index(0)\n",
    "    for j in range(n):\n",
    "        if s[i_cur]: \n",
    "            print(\"duplicated order\")\n",
    "            return [-999]*n\n",
    "        s[i_cur] = True\n",
    "        \n",
    "        i_next = m.index( (j+1) % n )\n",
    "        x[i_cur] = i_next - i_cur\n",
    "        i_cur = i_next\n",
    "        \n",
    "    return x    "
   ]
  },
  {
   "cell_type": "code",
   "execution_count": 108,
   "metadata": {
    "collapsed": false
   },
   "outputs": [
    {
     "data": {
      "text/plain": [
       "[4,\n",
       " 28,\n",
       " 23,\n",
       " 21,\n",
       " 8,\n",
       " 8,\n",
       " -5,\n",
       " 21,\n",
       " -5,\n",
       " -2,\n",
       " 4,\n",
       " 4,\n",
       " 9,\n",
       " 14,\n",
       " -12,\n",
       " -7,\n",
       " -10,\n",
       " 1,\n",
       " -7,\n",
       " 1,\n",
       " -15,\n",
       " 5,\n",
       " -12,\n",
       " -4,\n",
       " -8,\n",
       " -25,\n",
       " -3,\n",
       " -10,\n",
       " -6,\n",
       " -20]"
      ]
     },
     "execution_count": 108,
     "metadata": {},
     "output_type": "execute_result"
    }
   ],
   "source": [
    "generate_cyclic(30)"
   ]
  },
  {
   "cell_type": "code",
   "execution_count": 112,
   "metadata": {
    "collapsed": false
   },
   "outputs": [
    {
     "data": {
      "text/plain": [
       "True"
      ]
     },
     "execution_count": 112,
     "metadata": {},
     "output_type": "execute_result"
    }
   ],
   "source": [
    "is_complete_cycle(generate_cyclic(30))"
   ]
  }
 ],
 "metadata": {
  "kernelspec": {
   "display_name": "Python 3",
   "language": "python",
   "name": "python3"
  },
  "language_info": {
   "codemirror_mode": {
    "name": "ipython",
    "version": 3
   },
   "file_extension": ".py",
   "mimetype": "text/x-python",
   "name": "python",
   "nbconvert_exporter": "python",
   "pygments_lexer": "ipython3",
   "version": "3.4.3"
  }
 },
 "nbformat": 4,
 "nbformat_minor": 0
}

{
 "cells": [
  {
   "cell_type": "markdown",
   "metadata": {},
   "source": [
    "Here we show an example of using decesion tree to perform automatic binning of numerical data."
   ]
  },
  {
   "cell_type": "code",
   "execution_count": 1,
   "metadata": {
    "collapsed": true
   },
   "outputs": [],
   "source": [
    "def binningData(x, max_depth=5, min_samples_leaf=5):\n",
    "    \"\"\"\n",
    "    Suggest good threshold to bin data without using target variable, that is, unsupervised binning.\n",
    "    This function uses decision tree regression to cluster the data by using its self as the target variable.\n",
    "    \n",
    "    Input\n",
    "    x: numerical array (Numpy)\n",
    "    \n",
    "    Output\n",
    "    thrs_out: the recommended thresholds excluding the min and max value \n",
    "    y_hat: the average value in each bin\n",
    "    \n",
    "    Example:\n",
    "    \n",
    "    x = np.random.rand(1000)\n",
    "    (thrs_out, y_hat) = binningData(x, max_depth=3, min_samples_leaf=10)\n",
    "    # sort and append left- and right-most values to the bin\n",
    "    thrs_out = list(np.sort(thrs_out))\n",
    "    bin_outs = [min(x)] + thrs_out + [max(x)]\n",
    "    # plot the histogram\n",
    "    plt.hist(x=x, bins=bin_outs)\n",
    "    \n",
    "    kittipat@\n",
    "    Jul 1, 2015\n",
    "    \"\"\"\n",
    "    import numpy as np\n",
    "    from sklearn.tree import DecisionTreeRegressor\n",
    "    \n",
    "    # swap the data matrix\n",
    "    X = np.swapaxes(np.array([x]),0,1)\n",
    "\n",
    "    # target variable\n",
    "    y = x\n",
    "\n",
    "    # Fit regression model\n",
    "    clf_1 = DecisionTreeRegressor(max_depth=max_depth, min_samples_leaf=min_samples_leaf)\n",
    "    clf_1.fit(X, y)\n",
    "\n",
    "    # Predict\n",
    "    y_hat = clf_1.predict(X)\n",
    "\n",
    "    # output bin\n",
    "    thrs_out = np.unique( clf_1.tree_.threshold[clf_1.tree_.feature > -2] )\n",
    "    thrs_out = np.sort(thrs_out)\n",
    "\n",
    "    \n",
    "    return (thrs_out, y_hat)"
   ]
  },
  {
   "cell_type": "code",
   "execution_count": 3,
   "metadata": {
    "collapsed": true
   },
   "outputs": [],
   "source": [
    "import numpy as np\n",
    "import matplotlib.pyplot as plt\n",
    "%matplotlib inline"
   ]
  },
  {
   "cell_type": "code",
   "execution_count": 4,
   "metadata": {
    "collapsed": false
   },
   "outputs": [
    {
     "data": {
      "text/plain": [
       "(array([ 134.,  121.,  124.,  123.,  122.,  144.,  111.,  121.]),\n",
       " array([ 0.00114359,  0.13419625,  0.2551502 ,  0.37789276,  0.49972588,\n",
       "         0.62314659,  0.75580239,  0.8795284 ,  0.99991675]),\n",
       " <a list of 8 Patch objects>)"
      ]
     },
     "execution_count": 4,
     "metadata": {},
     "output_type": "execute_result"
    },
    {
     "data": {
      "image/png": "[encoded data removed]",
      "text/plain": [
       "<matplotlib.figure.Figure at 0x107c3cda0>"
      ]
     },
     "metadata": {},
     "output_type": "display_data"
    }
   ],
   "source": [
    "# create random sample\n",
    "x = np.random.rand(1000)\n",
    "\n",
    "# run the automatic binning\n",
    "(thrs_out, y_hat) = binningData(x, max_depth=3, min_samples_leaf=10)\n",
    "# sort and append left- and right-most values to the bin\n",
    "thrs_out = list(np.sort(thrs_out))\n",
    "bin_outs = [min(x)] + thrs_out + [max(x)]\n",
    "\n",
    "# plot the histogram\n",
    "plt.hist(x=x, bins=bin_outs)"
   ]
  },
  {
   "cell_type": "code",
   "execution_count": 9,
   "metadata": {
    "collapsed": false
   },
   "outputs": [
    {
     "data": {
      "text/plain": [
       "(array([ 53.,  81.,  61.,  60.,  60.,  64.,  52.,  71.,  72.,  50.,  74.,\n",
       "         70.,  52.,  59.,  52.,  69.]),\n",
       " array([ 0.00114359,  0.06690782,  0.13419625,  0.19478412,  0.2551502 ,\n",
       "         0.31395847,  0.37789276,  0.43488118,  0.49972588,  0.56455648,\n",
       "         0.62314659,  0.68863332,  0.75580239,  0.81686294,  0.8795284 ,\n",
       "         0.93519688,  0.99991675]),\n",
       " <a list of 16 Patch objects>)"
      ]
     },
     "execution_count": 9,
     "metadata": {},
     "output_type": "execute_result"
    },
    {
     "data": {
      "image/png": "[encoded data removed]",
      "text/plain": [
       "<matplotlib.figure.Figure at 0x10ad10ef0>"
      ]
     },
     "metadata": {},
     "output_type": "display_data"
    }
   ],
   "source": [
    "# run the automatic binning\n",
    "(thrs_out, y_hat) = binningData(x, max_depth=5, min_samples_leaf=50)\n",
    "# sort and append left- and right-most values to the bin\n",
    "thrs_out = list(np.sort(thrs_out))\n",
    "bin_outs = [min(x)] + thrs_out + [max(x)]\n",
    "\n",
    "# plot the histogram\n",
    "plt.hist(x=x, bins=bin_outs)"
   ]
  },
  {
   "cell_type": "code",
   "execution_count": null,
   "metadata": {
    "collapsed": true
   },
   "outputs": [],
   "source": []
  }
 ],
 "metadata": {
  "kernelspec": {
   "display_name": "Python 3",
   "language": "python",
   "name": "python3"
  },
  "language_info": {
   "codemirror_mode": {
    "name": "ipython",
    "version": 3
   },
   "file_extension": ".py",
   "mimetype": "text/x-python",
   "name": "python",
   "nbconvert_exporter": "python",
   "pygments_lexer": "ipython3",
   "version": "3.4.3"
  }
 },
 "nbformat": 4,
 "nbformat_minor": 0
}

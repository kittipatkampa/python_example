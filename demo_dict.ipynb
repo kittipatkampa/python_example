{
 "cells": [
  {
   "cell_type": "markdown",
   "metadata": {},
   "source": [
    "In this notebook, we will go over dictionary"
   ]
  },
  {
   "cell_type": "markdown",
   "metadata": {},
   "source": [
    "# create and access a dictionary"
   ]
  },
  {
   "cell_type": "markdown",
   "metadata": {},
   "source": [
    "A dictionary can hold any type of data you want."
   ]
  },
  {
   "cell_type": "code",
   "execution_count": 2,
   "metadata": {
    "collapsed": false
   },
   "outputs": [
    {
     "name": "stdout",
     "output_type": "stream",
     "text": [
      "dict G is {'C': ['B', 'E'], 'A': 17, 'D': [], 'B': 'python dict', 'E': None}\n"
     ]
    }
   ],
   "source": [
    "G = {'A':17, 'B':'python dict', 'C':['B', 'E'], 'D':[], 'E':None}\n",
    "print('dict G is',G)"
   ]
  },
  {
   "cell_type": "markdown",
   "metadata": {},
   "source": [
    "And here is how we can access entries in a dict."
   ]
  },
  {
   "cell_type": "code",
   "execution_count": 3,
   "metadata": {
    "collapsed": false
   },
   "outputs": [
    {
     "name": "stdout",
     "output_type": "stream",
     "text": [
      "G['A'] = 17\n",
      "G['C'] = ['B', 'E']\n",
      "G['E'] = None\n"
     ]
    }
   ],
   "source": [
    "# look at an element of G\n",
    "print(\"G['A'] = {0}\".format(G['A']))\n",
    "print(\"G['C'] = {0}\".format(G['C']))\n",
    "print(\"G['E'] = {0}\".format(G['E']))"
   ]
  },
  {
   "cell_type": "markdown",
   "metadata": {},
   "source": [
    "We can also get the keys and values in a dict. The output is a list. Note that the order of keys might not be the same as when we input them."
   ]
  },
  {
   "cell_type": "code",
   "execution_count": 4,
   "metadata": {
    "collapsed": false
   },
   "outputs": [
    {
     "data": {
      "text/plain": [
       "dict_keys(['C', 'A', 'D', 'B', 'E'])"
      ]
     },
     "execution_count": 4,
     "metadata": {},
     "output_type": "execute_result"
    }
   ],
   "source": [
    "# get the keys\n",
    "G.keys()"
   ]
  },
  {
   "cell_type": "code",
   "execution_count": 5,
   "metadata": {
    "collapsed": false
   },
   "outputs": [
    {
     "data": {
      "text/plain": [
       "['C', 'A', 'D', 'B', 'E']"
      ]
     },
     "execution_count": 5,
     "metadata": {},
     "output_type": "execute_result"
    }
   ],
   "source": [
    "# we can just convert the keys into list\n",
    "list(G.keys())"
   ]
  },
  {
   "cell_type": "code",
   "execution_count": 6,
   "metadata": {
    "collapsed": false
   },
   "outputs": [
    {
     "data": {
      "text/plain": [
       "dict_values([['B', 'E'], 17, [], 'python dict', None])"
      ]
     },
     "execution_count": 6,
     "metadata": {},
     "output_type": "execute_result"
    }
   ],
   "source": [
    "# get the values\n",
    "G.values()"
   ]
  },
  {
   "cell_type": "code",
   "execution_count": 7,
   "metadata": {
    "collapsed": false
   },
   "outputs": [
    {
     "data": {
      "text/plain": [
       "dict_items([('C', ['B', 'E']), ('A', 17), ('D', []), ('B', 'python dict'), ('E', None)])"
      ]
     },
     "execution_count": 7,
     "metadata": {},
     "output_type": "execute_result"
    }
   ],
   "source": [
    "# get the key-value pairs out of the dict\n",
    "G.items()"
   ]
  },
  {
   "cell_type": "code",
   "execution_count": 8,
   "metadata": {
    "collapsed": false
   },
   "outputs": [
    {
     "data": {
      "text/plain": [
       "True"
      ]
     },
     "execution_count": 8,
     "metadata": {},
     "output_type": "execute_result"
    }
   ],
   "source": [
    "# It's easy to check if a key exists in a dict using command in\n",
    "'A' in G"
   ]
  },
  {
   "cell_type": "code",
   "execution_count": 9,
   "metadata": {
    "collapsed": false
   },
   "outputs": [
    {
     "data": {
      "text/plain": [
       "False"
      ]
     },
     "execution_count": 9,
     "metadata": {},
     "output_type": "execute_result"
    }
   ],
   "source": [
    "'Z' in G"
   ]
  },
  {
   "cell_type": "markdown",
   "metadata": {},
   "source": [
    "This technique can make conditional looks simpler"
   ]
  },
  {
   "cell_type": "code",
   "execution_count": 10,
   "metadata": {
    "collapsed": false
   },
   "outputs": [
    {
     "name": "stdout",
     "output_type": "stream",
     "text": [
      "k is in G, G[A]: 17\n"
     ]
    }
   ],
   "source": [
    "k = 'A'\n",
    "\n",
    "if k not in G:\n",
    "    print(\"k not in G, so we will add it to the dict.\")\n",
    "    G[k] = \"it's been added\"\n",
    "else:\n",
    "    print(\"k is in G, G[{0}]: {1}\".format(k, G[k]))"
   ]
  },
  {
   "cell_type": "code",
   "execution_count": 11,
   "metadata": {
    "collapsed": false
   },
   "outputs": [
    {
     "name": "stdout",
     "output_type": "stream",
     "text": [
      "k not in G, so we will add it to the dict.\n"
     ]
    }
   ],
   "source": [
    "k = 'Z'\n",
    "\n",
    "if k not in G:\n",
    "    print(\"k not in G, so we will add it to the dict.\")\n",
    "    G[k] = \"it's been added\"\n",
    "else:\n",
    "    print(\"k is in G, G[{0}]: {1}\".format(k, G[k]))"
   ]
  },
  {
   "cell_type": "code",
   "execution_count": 12,
   "metadata": {
    "collapsed": false
   },
   "outputs": [
    {
     "data": {
      "text/plain": [
       "\"it's been added\""
      ]
     },
     "execution_count": 12,
     "metadata": {},
     "output_type": "execute_result"
    }
   ],
   "source": [
    "G['Z']"
   ]
  },
  {
   "cell_type": "markdown",
   "metadata": {},
   "source": [
    "# Update, add and delete"
   ]
  },
  {
   "cell_type": "markdown",
   "metadata": {},
   "source": [
    "We can simply update the dict."
   ]
  },
  {
   "cell_type": "code",
   "execution_count": 6,
   "metadata": {
    "collapsed": false
   },
   "outputs": [
    {
     "name": "stdout",
     "output_type": "stream",
     "text": [
      "This is original dict G -- {'E': None, 'D': [], 'B': 'python dict', 'A': 17, 'C': ['B', 'E']}\n",
      "This is updated dict G -- {'A': 29, 'B': ['C', 'C++'], 'D': ['a', 'b', 'c', 0, 1], 'F': False, 'E': None, 'C': ['B', 'E']}\n"
     ]
    }
   ],
   "source": [
    "print('This is original dict G -- {0}'.format(G))\n",
    "G['A'] = 29 # you can update the entry with new value\n",
    "G['B'] = ['C', 'C++'] # you can change the entry to a new type (from string to list)\n",
    "G['D'].extend(['a', 'b', 'c', 0, 1]) # extend the list in 'D'\n",
    "G['F'] = False # you can add a new entry\n",
    "print('This is updated dict G -- {0}'.format(G))"
   ]
  },
  {
   "cell_type": "code",
   "execution_count": 7,
   "metadata": {
    "collapsed": false
   },
   "outputs": [
    {
     "name": "stdout",
     "output_type": "stream",
     "text": [
      "This is updated dict G -- {'A': 29, 'B': ['C', 'C++'], 'D': ['a', 'b', 'c', 0, 1], 'F': False, 'E': None}\n"
     ]
    }
   ],
   "source": [
    "# now we will delete the entry with key = 'C'\n",
    "del G['C']\n",
    "print('This is updated dict G -- {0}'.format(G))"
   ]
  },
  {
   "cell_type": "code",
   "execution_count": 8,
   "metadata": {
    "collapsed": false
   },
   "outputs": [
    {
     "data": {
      "text/plain": [
       "{'A': [], 'B': [], 'D': [], 'E': [], 'F': []}"
      ]
     },
     "execution_count": 8,
     "metadata": {},
     "output_type": "execute_result"
    }
   ],
   "source": [
    "# copy the existing keys to a new dict\n",
    "dict.fromkeys(G.keys(),[])"
   ]
  },
  {
   "cell_type": "code",
   "execution_count": 9,
   "metadata": {
    "collapsed": false
   },
   "outputs": [
    {
     "data": {
      "text/plain": [
       "{'A': 0, 'B': 0, 'D': 0, 'E': 0, 'F': 0}"
      ]
     },
     "execution_count": 9,
     "metadata": {},
     "output_type": "execute_result"
    }
   ],
   "source": [
    "# copy the existing keys to a new dict\n",
    "dict.fromkeys(G.keys(),0)"
   ]
  },
  {
   "cell_type": "markdown",
   "metadata": {},
   "source": [
    "## Other topics yet to show:"
   ]
  },
  {
   "cell_type": "markdown",
   "metadata": {},
   "source": [
    "convert dataframe to dict\n",
    "http://stackoverflow.com/questions/18012505/python-pandas-dataframe-columns-convert-to-dict-key-and-value\n"
   ]
  },
  {
   "cell_type": "code",
   "execution_count": null,
   "metadata": {
    "collapsed": true
   },
   "outputs": [],
   "source": []
  }
 ],
 "metadata": {
  "kernelspec": {
   "display_name": "Python 3",
   "language": "python",
   "name": "python3"
  },
  "language_info": {
   "codemirror_mode": {
    "name": "ipython",
    "version": 3
   },
   "file_extension": ".py",
   "mimetype": "text/x-python",
   "name": "python",
   "nbconvert_exporter": "python",
   "pygments_lexer": "ipython3",
   "version": "3.4.3"
  }
 },
 "nbformat": 4,
 "nbformat_minor": 0
}

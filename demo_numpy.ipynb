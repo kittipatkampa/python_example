{
 "cells": [
  {
   "cell_type": "code",
   "execution_count": 1,
   "metadata": {
    "collapsed": true
   },
   "outputs": [],
   "source": [
    "import numpy as np"
   ]
  },
  {
   "cell_type": "markdown",
   "metadata": {},
   "source": [
    "# Initialize the numpy array"
   ]
  },
  {
   "cell_type": "code",
   "execution_count": 2,
   "metadata": {
    "collapsed": false
   },
   "outputs": [
    {
     "name": "stdout",
     "output_type": "stream",
     "text": [
      "arr:[1 2 3], type:<class 'numpy.ndarray'>\n"
     ]
    }
   ],
   "source": [
    "# create array from list\n",
    "arr = np.array([1, 2, 3])\n",
    "print('arr:{0}, type:{1}'.format(arr, type(arr)))"
   ]
  },
  {
   "cell_type": "code",
   "execution_count": 3,
   "metadata": {
    "collapsed": false
   },
   "outputs": [
    {
     "name": "stdout",
     "output_type": "stream",
     "text": [
      "arr:[ 0.  0.  0.  0.  0.  0.  0.], type:<class 'numpy.ndarray'>\n"
     ]
    }
   ],
   "source": [
    "# create zero array \n",
    "arr = np.zeros(7)\n",
    "print('arr:{0}, type:{1}'.format(arr, type(arr)))"
   ]
  },
  {
   "cell_type": "code",
   "execution_count": 9,
   "metadata": {
    "collapsed": false
   },
   "outputs": [
    {
     "name": "stdout",
     "output_type": "stream",
     "text": [
      "arr:[[ 1.  1.  1.  1.]\n",
      " [ 1.  1.  1.  1.]\n",
      " [ 1.  1.  1.  1.]], type:<class 'numpy.ndarray'>, dtype:float64\n"
     ]
    }
   ],
   "source": [
    "# create 2D one array \n",
    "arr = np.zeros((3,4))+1\n",
    "print('arr:{0}, type:{1}, dtype:{2}'.format(arr, type(arr), arr.dtype))"
   ]
  },
  {
   "cell_type": "code",
   "execution_count": 10,
   "metadata": {
    "collapsed": false
   },
   "outputs": [
    {
     "name": "stdout",
     "output_type": "stream",
     "text": [
      "arr:[[1 1 1 1]\n",
      " [1 1 1 1]\n",
      " [1 1 1 1]], type:<class 'numpy.ndarray'>, dtype:int64\n"
     ]
    }
   ],
   "source": [
    "# we can force the element type to be integer (to save memory space)\n",
    "arr = np.zeros((3,4)).astype(int)+1\n",
    "print('arr:{0}, type:{1}, dtype:{2}'.format(arr, type(arr), arr.dtype))"
   ]
  },
  {
   "cell_type": "code",
   "execution_count": 14,
   "metadata": {
    "collapsed": false
   },
   "outputs": [
    {
     "name": "stdout",
     "output_type": "stream",
     "text": [
      "arr:[[ 1.  1.  1.  1.]\n",
      " [ 1.  1.  1.  1.]\n",
      " [ 1.  1.  1.  1.]], type:<class 'numpy.ndarray'>, dtype:float64\n"
     ]
    }
   ],
   "source": [
    "# create 2D one array, by default the entry is float64 (for mac 64-bit) \n",
    "arr = np.ones((3,4))\n",
    "print('arr:{0}, type:{1}, dtype:{2}'.format(arr, type(arr), arr.dtype))"
   ]
  },
  {
   "cell_type": "code",
   "execution_count": 11,
   "metadata": {
    "collapsed": false
   },
   "outputs": [
    {
     "name": "stdout",
     "output_type": "stream",
     "text": [
      "arr:[0 1 2 3 4 5 6 7 8 9], type:<class 'numpy.ndarray'>, dtype:int64\n"
     ]
    }
   ],
   "source": [
    "# create an array containing a sequence of integers from 0 to 9\n",
    "arr = np.arange(10)\n",
    "print('arr:{0}, type:{1}, dtype:{2}'.format(arr, type(arr), arr.dtype))"
   ]
  },
  {
   "cell_type": "code",
   "execution_count": 13,
   "metadata": {
    "collapsed": false
   },
   "outputs": [
    {
     "name": "stdout",
     "output_type": "stream",
     "text": [
      "arr:[ 10.   10.5  11.   11.5  12.   12.5  13.   13.5  14.   14.5  15.   15.5\n",
      "  16.   16.5  17.   17.5  18.   18.5  19.   19.5], type:<class 'numpy.ndarray'>, dtype:float16\n"
     ]
    }
   ],
   "source": [
    "# create an array containing a sequence of integers from 10 to 20, increment by 0.5\n",
    "# I also force the entry to be of type float16\n",
    "arr = np.arange(10, 20, 0.5, dtype=np.float16)\n",
    "print('arr:{0}, type:{1}, dtype:{2}'.format(arr, type(arr), arr.dtype))"
   ]
  },
  {
   "cell_type": "markdown",
   "metadata": {},
   "source": [
    "# Selecting rows and columns"
   ]
  },
  {
   "cell_type": "code",
   "execution_count": 15,
   "metadata": {
    "collapsed": false
   },
   "outputs": [
    {
     "name": "stdout",
     "output_type": "stream",
     "text": [
      "arr:[[1 2]\n",
      " [3 4]], type:<class 'numpy.ndarray'>, dtype:int64\n"
     ]
    }
   ],
   "source": [
    "alist = [[1, 2], [3, 4]]\n",
    "arr2d = np.array(alist)\n",
    "print('arr:{0}, type:{1}, dtype:{2}'.format(arr2d, type(arr2d), arr2d.dtype))"
   ]
  },
  {
   "cell_type": "code",
   "execution_count": 16,
   "metadata": {
    "collapsed": false
   },
   "outputs": [
    {
     "data": {
      "text/plain": [
       "array([1, 3])"
      ]
     },
     "execution_count": 16,
     "metadata": {},
     "output_type": "execute_result"
    }
   ],
   "source": [
    "arr2d[:,0]"
   ]
  },
  {
   "cell_type": "code",
   "execution_count": 17,
   "metadata": {
    "collapsed": false
   },
   "outputs": [
    {
     "data": {
      "text/plain": [
       "array([2, 4])"
      ]
     },
     "execution_count": 17,
     "metadata": {},
     "output_type": "execute_result"
    }
   ],
   "source": [
    "arr2d[:,1]"
   ]
  },
  {
   "cell_type": "code",
   "execution_count": 18,
   "metadata": {
    "collapsed": false
   },
   "outputs": [
    {
     "data": {
      "text/plain": [
       "3"
      ]
     },
     "execution_count": 18,
     "metadata": {},
     "output_type": "execute_result"
    }
   ],
   "source": [
    "arr2d[1,0]"
   ]
  },
  {
   "cell_type": "code",
   "execution_count": 19,
   "metadata": {
    "collapsed": false
   },
   "outputs": [
    {
     "name": "stdout",
     "output_type": "stream",
     "text": [
      "arr:[[[1 2]\n",
      "  [3 4]]\n",
      "\n",
      " [[5 6]\n",
      "  [7 8]]], type:<class 'numpy.ndarray'>, dtype:int64\n"
     ]
    }
   ],
   "source": [
    "# 3d array\n",
    "alist = [[[1, 2], [3, 4]],[[5, 6], [7, 8]]]\n",
    "arr3d = np.array(alist)\n",
    "print('arr:{0}, type:{1}, dtype:{2}'.format(arr3d, type(arr3d), arr3d.dtype))"
   ]
  },
  {
   "cell_type": "code",
   "execution_count": 21,
   "metadata": {
    "collapsed": false
   },
   "outputs": [
    {
     "data": {
      "text/plain": [
       "array([[2, 4],\n",
       "       [6, 8]])"
      ]
     },
     "execution_count": 21,
     "metadata": {},
     "output_type": "execute_result"
    }
   ],
   "source": [
    "arr3d[:,:,1]"
   ]
  },
  {
   "cell_type": "markdown",
   "metadata": {},
   "source": [
    "# Conditional selection"
   ]
  },
  {
   "cell_type": "markdown",
   "metadata": {},
   "source": [
    "For example, when we want to get all the entries whose value > 5."
   ]
  },
  {
   "cell_type": "markdown",
   "metadata": {},
   "source": [
    "### 1D case"
   ]
  },
  {
   "cell_type": "code",
   "execution_count": 48,
   "metadata": {
    "collapsed": false
   },
   "outputs": [
    {
     "name": "stdout",
     "output_type": "stream",
     "text": [
      "[ 0  1  2  3  4  5  6  7  8  9 10 11 12 13 14 15 16 17 18 19]\n",
      "index: [False False False False False False  True  True  True  True  True  True\n",
      "  True  True  True  True  True  True  True  True]\n",
      "selected part: [ 6  7  8  9 10 11 12 13 14 15 16 17 18 19]\n",
      "selected part: [  0   1   2   3   4   5 106 107 108 109 110 111 112 113 114 115 116 117\n",
      " 118 119]\n",
      "selected part: [  0   1   2   3   4   5 -10 -10 -10 -10 -10 -10 -10 -10 -10 -10 -10 -10\n",
      " -10 -10]\n"
     ]
    }
   ],
   "source": [
    "# initialize the array\n",
    "arr = np.arange(0,20)\n",
    "print(arr)\n",
    "\n",
    "# produce index where the entries value > 5\n",
    "idx = arr > 5\n",
    "print('index: {0}'.format(idx))\n",
    "\n",
    "# select the ones complying with the condition\n",
    "arr[idx]\n",
    "print('selected part: {0}'.format(arr[idx]))\n",
    "\n",
    "# replace the selected entries with new values\n",
    "arr[idx] = arr[idx]+100\n",
    "print('selected part: {0}'.format(arr))\n",
    "\n",
    "# replace the selected entries with new values\n",
    "arr[idx] = -10\n",
    "print('selected part: {0}'.format(arr))"
   ]
  },
  {
   "cell_type": "markdown",
   "metadata": {},
   "source": [
    "### 2D case"
   ]
  },
  {
   "cell_type": "code",
   "execution_count": null,
   "metadata": {
    "collapsed": true
   },
   "outputs": [],
   "source": [
    "# initialize a 2d array\n",
    "arr = np.arange(1,10)\n",
    "arr2d = np.reshape(arr, (3,3))\n",
    "print('arr2d: {0}'.format(arr2d))\n",
    "\n",
    "# produce index where the entries value > 5\n",
    "idx = arr2d > 5\n",
    "print('index: {0}'.format(idx))\n",
    "\n",
    "# select the ones complying with the condition\n",
    "print('selected part: {0}'.format(arr2d[idx]))"
   ]
  },
  {
   "cell_type": "markdown",
   "metadata": {},
   "source": [
    "### Using np.where()"
   ]
  },
  {
   "cell_type": "code",
   "execution_count": 58,
   "metadata": {
    "collapsed": false
   },
   "outputs": [
    {
     "name": "stdout",
     "output_type": "stream",
     "text": [
      "arr2d: [[1 2 3]\n",
      " [4 5 6]\n",
      " [7 8 9]]\n",
      "index: [[False False False]\n",
      " [False False  True]\n",
      " [ True  True  True]]\n",
      "selected part: [6 7 8 9]\n",
      "index: (array([1, 2, 2, 2]), array([2, 0, 1, 2]))\n",
      "selected part: [6 7 8 9]\n"
     ]
    }
   ],
   "source": [
    "# another way to select is to use np.where()\n",
    "# the output is selected reduced-size index, but not Boolean.\n",
    "idx2 = np.where(arr2d > 5)\n",
    "print('index: {0}'.format(idx2))\n",
    "\n",
    "# select the ones complying with the condition\n",
    "print('selected part: {0}'.format(arr2d[idx2]))"
   ]
  },
  {
   "cell_type": "markdown",
   "metadata": {},
   "source": [
    "# Type of elements in numpy array"
   ]
  },
  {
   "cell_type": "markdown",
   "metadata": {},
   "source": [
    "The differences between list and numpy array are:\n",
    "* List can contain entries of different types, for example, alist = [1, 'b', [1,2], {'a':True, 'b':False}]\n",
    "    * List only provides iterators, but cannot broadcast\n",
    "* Array can only contain the same type, for instance, arr = np.array([1, 2, 3]), arr = np.array(['a', 'b', 'c'])\n",
    "    * Array operation is much faster than list, it supports \"broadcasting\" http://docs.scipy.org/doc/numpy/user/basics.broadcasting.html"
   ]
  },
  {
   "cell_type": "code",
   "execution_count": 25,
   "metadata": {
    "collapsed": false
   },
   "outputs": [
    {
     "name": "stdout",
     "output_type": "stream",
     "text": [
      "arr:[1, 'b', [1, 2], {'b': False, 'a': True}], type:<class 'list'>\n"
     ]
    }
   ],
   "source": [
    "# The entries in a list can be of different types\n",
    "alist = [1, 'b', [1,2], {'a':True, 'b':False}]\n",
    "print('arr:{0}, type:{1}'.format(alist, type(alist)))"
   ]
  },
  {
   "cell_type": "code",
   "execution_count": 29,
   "metadata": {
    "collapsed": false
   },
   "outputs": [
    {
     "name": "stdout",
     "output_type": "stream",
     "text": [
      "arr:['a' 'b' 'c'], type:<class 'numpy.ndarray'>, dtype:<U1\n"
     ]
    }
   ],
   "source": [
    "# The entries are all char\n",
    "arr = np.array(['a', 'b', 'c'])\n",
    "print('arr:{0}, type:{1}, dtype:{2}'.format(arr, type(arr), arr.dtype))"
   ]
  },
  {
   "cell_type": "code",
   "execution_count": 30,
   "metadata": {
    "collapsed": false
   },
   "outputs": [
    {
     "name": "stdout",
     "output_type": "stream",
     "text": [
      "arr:[['a' 'b' 'c']\n",
      " ['1' '2' '3']], type:<class 'numpy.ndarray'>, dtype:<U1\n"
     ]
    }
   ],
   "source": [
    "# The entries are all list\n",
    "arr = np.array([ ['a', 'b', 'c'], [1,2,3]])\n",
    "print('arr:{0}, type:{1}, dtype:{2}'.format(arr, type(arr), arr.dtype))"
   ]
  },
  {
   "cell_type": "code",
   "execution_count": 34,
   "metadata": {
    "collapsed": false
   },
   "outputs": [
    {
     "data": {
      "text/plain": [
       "array([ 3,  6,  9, 12])"
      ]
     },
     "execution_count": 34,
     "metadata": {},
     "output_type": "execute_result"
    }
   ],
   "source": [
    "# np array can broadcast\n",
    "np.array([1, 2, 3, 4])*3"
   ]
  },
  {
   "cell_type": "code",
   "execution_count": 35,
   "metadata": {
    "collapsed": false
   },
   "outputs": [
    {
     "data": {
      "text/plain": [
       "[1, 2, 3, 4, 1, 2, 3, 4, 1, 2, 3, 4]"
      ]
     },
     "execution_count": 35,
     "metadata": {},
     "output_type": "execute_result"
    }
   ],
   "source": [
    "# but not for list\n",
    "alist = [1, 2, 3, 4]\n",
    "alist*3"
   ]
  },
  {
   "cell_type": "markdown",
   "metadata": {},
   "source": [
    "# Generating random numbers"
   ]
  },
  {
   "cell_type": "code",
   "execution_count": 59,
   "metadata": {
    "collapsed": true
   },
   "outputs": [],
   "source": [
    "import numpy.random as rand"
   ]
  },
  {
   "cell_type": "code",
   "execution_count": 61,
   "metadata": {
    "collapsed": false
   },
   "outputs": [
    {
     "name": "stdout",
     "output_type": "stream",
     "text": [
      "arr2d: [[ 0.04061861 -0.15869304  0.88563816  0.05971316]\n",
      " [-2.04072172 -0.14551835  0.10813258  1.79215372]\n",
      " [ 0.60823275  0.60746081 -1.03855834 -0.22705447]]\n"
     ]
    }
   ],
   "source": [
    "# random number from Gaussian distribution\n",
    "arr2d = rand.randn(3,4)\n",
    "print('arr2d: {0}'.format(arr2d))"
   ]
  },
  {
   "cell_type": "code",
   "execution_count": 65,
   "metadata": {
    "collapsed": false
   },
   "outputs": [
    {
     "name": "stdout",
     "output_type": "stream",
     "text": [
      "arr2d: [[13 14 14 13]\n",
      " [12 10 13 13]\n",
      " [12 13 12 12]]\n"
     ]
    }
   ],
   "source": [
    "# random intergers from discrete uniform distribution\n",
    "arr2d = rand.randint(10,15, (3,4))\n",
    "print('arr2d: {0}'.format(arr2d))"
   ]
  },
  {
   "cell_type": "code",
   "execution_count": null,
   "metadata": {
    "collapsed": true
   },
   "outputs": [],
   "source": []
  }
 ],
 "metadata": {
  "kernelspec": {
   "display_name": "Python 3",
   "language": "python",
   "name": "python3"
  },
  "language_info": {
   "codemirror_mode": {
    "name": "ipython",
    "version": 3
   },
   "file_extension": ".py",
   "mimetype": "text/x-python",
   "name": "python",
   "nbconvert_exporter": "python",
   "pygments_lexer": "ipython3",
   "version": "3.4.3"
  }
 },
 "nbformat": 4,
 "nbformat_minor": 0
}

{
 "cells": [
  {
   "cell_type": "markdown",
   "metadata": {},
   "source": [
    "## Step for-loop"
   ]
  },
  {
   "cell_type": "markdown",
   "metadata": {},
   "source": [
    "Here is how we make a step using for-loop"
   ]
  },
  {
   "cell_type": "code",
   "execution_count": 8,
   "metadata": {
    "collapsed": false
   },
   "outputs": [
    {
     "name": "stdout",
     "output_type": "stream",
     "text": [
      "0:3\n",
      "3:6\n",
      "6:9\n",
      "9:12\n",
      "12:13\n"
     ]
    }
   ],
   "source": [
    "A = range(13)\n",
    "chunksize = 3\n",
    "for s in range(0, len(A), chunksize):\n",
    "    start = s\n",
    "    stop = min(s+chunksize, len(A))\n",
    "    print(\"{0}:{1}\".format(start,stop))\n"
   ]
  },
  {
   "cell_type": "code",
   "execution_count": 9,
   "metadata": {
    "collapsed": false
   },
   "outputs": [
    {
     "name": "stdout",
     "output_type": "stream",
     "text": [
      "len(A) is 13\n",
      "\n",
      "0:3 --> abc\n",
      "3:6 --> def\n",
      "6:9 --> ghi\n",
      "9:12 --> jkl\n",
      "12:13 --> m\n"
     ]
    }
   ],
   "source": [
    "A = 'abcdefghijklm'\n",
    "print('len(A) is {0}\\n'.format(len(A)))\n",
    "chunksize = 3\n",
    "for s in range(0, len(A), chunksize):\n",
    "    start = s\n",
    "    stop = min(s+chunksize, len(A))\n",
    "    print(\"{0}:{1} --> {2}\".format(start,stop,A[start:stop]))\n"
   ]
  },
  {
   "cell_type": "markdown",
   "metadata": {
    "collapsed": true
   },
   "source": [
    "## Loop if A not empty"
   ]
  },
  {
   "cell_type": "markdown",
   "metadata": {},
   "source": [
    "An equivalent python code for statement \"continue the loop as long as A is not empty\":"
   ]
  },
  {
   "cell_type": "code",
   "execution_count": 10,
   "metadata": {
    "collapsed": false
   },
   "outputs": [
    {
     "name": "stdout",
     "output_type": "stream",
     "text": [
      "A is ['a', 'b', 'c']\n",
      "A is ['a', 'b']\n",
      "A is ['a']\n"
     ]
    }
   ],
   "source": [
    "A = ['a', 'b', 'c']\n",
    "while A:\n",
    "    print(\"A is {0}\".format(A))\n",
    "    A.pop()"
   ]
  },
  {
   "cell_type": "code",
   "execution_count": null,
   "metadata": {
    "collapsed": true
   },
   "outputs": [],
   "source": []
  }
 ],
 "metadata": {
  "kernelspec": {
   "display_name": "Python 3",
   "language": "python",
   "name": "python3"
  },
  "language_info": {
   "codemirror_mode": {
    "name": "ipython",
    "version": 3
   },
   "file_extension": ".py",
   "mimetype": "text/x-python",
   "name": "python",
   "nbconvert_exporter": "python",
   "pygments_lexer": "ipython3",
   "version": "3.4.3"
  }
 },
 "nbformat": 4,
 "nbformat_minor": 0
}
